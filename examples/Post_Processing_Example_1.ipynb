{
 "cells": [
  {
   "cell_type": "markdown",
   "metadata": {},
   "source": [
    "# Post-processing Examples"
   ]
  },
  {
   "cell_type": "markdown",
   "metadata": {},
   "source": [
    "This notebook provides some examples for using the post-processing features in `RESSPyLab`.\n",
    "Automatic table generation and calculation of the consistency metric $\\xi_2$ are shown for both the original and updated Voce-Chaboche (UVC) models.\n",
    "Note that there is an example for plotting output in each of the calibration examples."
   ]
  },
  {
   "cell_type": "code",
   "execution_count": 1,
   "metadata": {
    "collapsed": true,
    "pycharm": {
     "is_executing": false
    }
   },
   "outputs": [],
   "source": [
    "# First load RESSPyLab and necessary packages\n",
    "import numpy as np\n",
    "import RESSPyLab as rpl"
   ]
  },
  {
   "cell_type": "markdown",
   "metadata": {},
   "source": [
    "## Original Voce-Chaboche model"
   ]
  },
  {
   "cell_type": "markdown",
   "metadata": {},
   "source": [
    "First we will use `RESSPyLab` to generate a formatted table of parameters including the relative error metric, $\\bar{\\varphi}$.\n",
    "The inputs to this function are: \n",
    "1. Information about the name of the data set and the load protocols used in the optimization.\n",
    "2. The file containing the history of parameters (generated from the optimization).\n",
    "3. The data used in the optimization.\n",
    "\n",
    "Two tables are returned (as `pandas` DataFrames) and are printed to screen in LaTeX format.\n",
    "If you want the tables in some other format it is best to operate on the DataFrames directly (e.g., use [to_csv()](https://pandas.pydata.org/pandas-docs/stable/reference/api/pandas.DataFrame.to_csv.html))."
   ]
  },
  {
   "cell_type": "code",
   "execution_count": 2,
   "metadata": {
    "collapsed": false,
    "pycharm": {
     "is_executing": false
    }
   },
   "outputs": [
    {
     "name": "stdout",
     "text": [
      "\\begin{tabular}{llrrrrrrrrr}\n\\toprule\n{} &   LP &  $\\bar{\\varphi}$[\\%] &  $E$[GPa] &  $\\sigma_{y,0}$[MPa] &  $Q_\\infty$[MPa] &  $b$ &  $C_1$[MPa] &  $\\gamma_1$ &  $C_2$[MPa] &  $\\gamma_2$ \\\\\nMaterial  &      &                      &           &                      &                  &      &             &             &             &             \\\\\n\\midrule\nExample 1 &  1,5 &                 6.42 &    185.12 &               255.42 &            91.73 & 9.59 &    17430.52 &      157.28 &     1761.99 &        3.55 \\\\\n\\bottomrule\n\\end{tabular}\n\n\\begin{tabular}{lrrrrrr}\n\\toprule\n{} &  $\\sigma_{y,0}$[MPa] &  $\\sigma_{sat}$[MPa] &  $\\sigma_{hard}$[MPa] &  $\\rho^{sat}_{yield}$ &  $\\rho^{sat}_{iso}$ &  $\\rho^{sat}_{kin}$ \\\\\nMaterial  &                      &                      &                       &                       &                     &                     \\\\\n\\midrule\nExample 1 &               255.42 &               954.48 &                699.06 &                  3.74 &                0.13 &                0.87 \\\\\n\\bottomrule\n\\end{tabular}\n\n"
     ],
     "output_type": "stream"
    }
   ],
   "source": [
    "# Identify the material\n",
    "material_def = {'material_id': ['Example 1'], 'load_protocols': ['1,5']}\n",
    "# Set the path to the x log file\n",
    "x_log_file_1 = './output/x_log.txt'\n",
    "x_logs_all = [x_log_file_1]\n",
    "# Load the data\n",
    "data_files_1 = ['example_1.csv']\n",
    "data_1 = rpl.load_data_set(data_files_1)\n",
    "data_all = [data_1]\n",
    "\n",
    "# Make the tables\n",
    "param_table, metric_table = rpl.summary_tables_maker_vc(material_def, x_logs_all, data_all)"
   ]
  },
  {
   "cell_type": "markdown",
   "metadata": {},
   "source": [
    "Tables can be easily generated following a standard format for several data sets by appending additional entries to the lists of values in `material_def` and to `x_logs_all` and `data_all`."
   ]
  },
  {
   "cell_type": "markdown",
   "metadata": {},
   "source": [
    "Now we will generate the consistency metric, $\\xi_2$.\n",
    "The input arguments are:\n",
    "1. The parameters of the base case.\n",
    "2. The parameters of the case that you would like to compare with.\n",
    "3. The set of data to compute this metric over.\n",
    "\n",
    "The metric is returned (the raw value, NOT as a percent) directly from this function."
   ]
  },
  {
   "cell_type": "code",
   "execution_count": 3,
   "metadata": {
    "collapsed": false,
    "pycharm": {
     "is_executing": false
    }
   },
   "outputs": [
    {
     "name": "stdout",
     "text": [
      "0.6496966577968584\n"
     ],
     "output_type": "stream"
    }
   ],
   "source": [
    "# Load the base parameters, we want the last entry in the file\n",
    "x_base = np.loadtxt(x_log_file_1, delimiter=' ')\n",
    "x_base = x_base[-1]\n",
    "# Load (or set) the sample parameters\n",
    "x_sample = np.array([179750., 318.47, 100.72, 8.00, 11608.17, 145.22, 1026.33, 4.68])\n",
    "\n",
    "# Calculate the metric\n",
    "consistency_metric = rpl.vc_consistency_metric(x_base, x_sample, data_1)\n",
    "print consistency_metric"
   ]
  },
  {
   "cell_type": "markdown",
   "metadata": {},
   "source": [
    "The value of $\\xi_2 = 65$ %, indicating that the two sets of parameters are inconsistent for this data set."
   ]
  },
  {
   "cell_type": "markdown",
   "metadata": {},
   "source": [
    "## Updated Voce-Chaboche model"
   ]
  },
  {
   "cell_type": "markdown",
   "metadata": {},
   "source": [
    "The inputs to generate the tables are the same as for the original model, however the input parameters have to come from optimization using the updated model."
   ]
  },
  {
   "cell_type": "code",
   "execution_count": 4,
   "metadata": {
    "collapsed": false,
    "pycharm": {
     "is_executing": false
    }
   },
   "outputs": [
    {
     "name": "stdout",
     "text": [
      "\\begin{tabular}{llrrrrrrrrr}\n\\toprule\n{} & LP &  $\\bar{\\varphi}$[\\%] &  $E$[GPa] &  $\\sigma_{y,0}$[MPa] &  $Q_\\infty$[MPa] &   $b$ &  $D_\\infty$[MPa] &    $a$ &  $C_1$[MPa] &  $\\gamma_1$ \\\\\nMaterial  &    &                      &           &                      &                  &       &                  &        &             &             \\\\\n\\midrule\nExample 1 &  1 &                 5.84 &    195.58 &               335.31 &           107.20 & 17.20 &           110.78 & 197.20 &    20060.19 &      138.01 \\\\\n\\bottomrule\n\\end{tabular}\n\n\\begin{tabular}{lrrrrrrr}\n\\toprule\n{} &  $\\sigma_{y,0}$[MPa] &  $\\sigma_{sat}$[MPa] &  $\\sigma_{hard}$[MPa] &  $\\rho^{sat}_{yield}$ &  $\\rho^{sat}_{iso}$ &  $\\rho^{sat}_{kin}$ &  $\\rho^{sat}_{D}$ \\\\\nMaterial  &                      &                      &                       &                       &                     &                     &                   \\\\\n\\midrule\nExample 1 &               335.31 &               477.09 &                252.55 &                  1.42 &                0.42 &                0.58 &              0.44 \\\\\n\\bottomrule\n\\end{tabular}\n\n"
     ],
     "output_type": "stream"
    }
   ],
   "source": [
    "# Identify the material\n",
    "material_def = {'material_id': ['Example 1'], 'load_protocols': ['1']}\n",
    "# Set the path to the x log file\n",
    "x_log_file_2 = './output/x_log_upd.txt'\n",
    "x_logs_all = [x_log_file_2]\n",
    "# Load the data\n",
    "data_files_2 = ['example_1.csv']\n",
    "data_2 = rpl.load_data_set(data_files_2)\n",
    "data_all = [data_2]\n",
    "\n",
    "# Make the tables\n",
    "param_table, metric_table = rpl.summary_tables_maker_uvc(material_def, x_logs_all, data_all)"
   ]
  },
  {
   "cell_type": "markdown",
   "metadata": {},
   "source": [
    "The consistency metric can be calculated in the same way as for the original model, but just using the `uvc_consistency_metric` function instead of `vco_consistency_metric`."
   ]
  }
 ],
 "metadata": {
  "kernelspec": {
   "display_name": "Python 2",
   "language": "python",
   "name": "python2"
  },
  "language_info": {
   "codemirror_mode": {
    "name": "ipython",
    "version": 2
   },
   "file_extension": ".py",
   "mimetype": "text/x-python",
   "name": "python",
   "nbconvert_exporter": "python",
   "pygments_lexer": "ipython2",
   "version": "2.7.15"
  },
  "pycharm": {
   "stem_cell": {
    "cell_type": "raw",
    "source": [],
    "metadata": {
     "collapsed": false
    }
   }
  }
 },
 "nbformat": 4,
 "nbformat_minor": 2
}