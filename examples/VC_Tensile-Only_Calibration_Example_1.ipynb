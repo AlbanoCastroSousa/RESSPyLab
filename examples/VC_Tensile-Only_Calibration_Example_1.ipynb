{
 "cells": [
  {
   "cell_type": "markdown",
   "metadata": {},
   "source": [
    "# Original Voce-Chaboche Model Fitting Using Only Tension Test Example 1"
   ]
  },
  {
   "cell_type": "markdown",
   "metadata": {},
   "source": [
    "An example of fitting the original Voce-Chaboche model to only a tension test is presented in this notebook.\n",
    "\n",
    "Documentation for all the functions used in this example can be found by either looking at docstrings for any of the functions."
   ]
  },
  {
   "cell_type": "code",
   "execution_count": 1,
   "metadata": {
    "collapsed": false,
    "pycharm": {
     "is_executing": false
    }
   },
   "outputs": [],
   "source": [
    "import RESSPyLab as rpl\n",
    "import numpy as np"
   ]
  },
  {
   "cell_type": "markdown",
   "metadata": {},
   "source": [
    "## Run the constrained tensile-only optimization"
   ]
  },
  {
   "cell_type": "markdown",
   "metadata": {},
   "source": [
    "This is a canonical example for fitting the Voce-Chaboche model to a tension test with cyclic behavior embedded through constraints on the parameters.\n",
    "A simple model appears to work best in this case, so only one backstress is specified.\n",
    "\n",
    "The overall steps to calibrate the model parameters are as follows:\n",
    "1. Load the tension test\n",
    "2. Choose a starting point\n",
    "3. Set the bounds on the hardening metric constraints\n",
    "4. Set the location to save the analysis history\n",
    "5. Run the analysis"
   ]
  },
  {
   "cell_type": "code",
   "execution_count": 2,
   "metadata": {
    "collapsed": false,
    "pycharm": {
     "is_executing": false
    }
   },
   "outputs": [
    {
     "name": "stderr",
     "text": [
      "/Users/ahartloper/anaconda/envs/py27/lib/python2.7/site-packages/scipy/signal/_arraytools.py:45: FutureWarning: Using a non-tuple sequence for multidimensional indexing is deprecated; use `arr[tuple(seq)]` instead of `arr[seq]`. In the future this will be interpreted as an array index, `arr[np.array(seq)]`, which will result either in an error or a different result.\n  b = a[a_slice]\n"
     ],
     "output_type": "stream"
    },
    {
     "name": "stdout",
     "text": [
      "| niter |f evals|CG iter|  obj func   |tr radius |   opt    |  c viol  |\n|-------|-------|-------|-------------|----------|----------|----------|\n|   1   |   1   |   0   | +8.5677e+03 | 1.00e+00 | 1.36e+02 | 0.00e+00 |\n",
      "|   2   |   2   |   1   | +8.3682e+03 | 7.00e+00 | 1.66e+02 | 0.00e+00 |\n",
      "|   3   |   3   |   2   | +7.4550e+03 | 7.00e+00 | 1.24e+02 | 1.41e-01 |\n|   4   |   4   |   3   | +7.4550e+03 | 1.79e+00 | 1.24e+02 | 1.41e-01 |\n",
      "|   5   |   5   |   4   | +7.4074e+03 | 1.25e+01 | 1.23e+02 | 9.87e-02 |\n",
      "|   6   |   6   |   5   | +7.1021e+03 | 1.26e+01 | 1.16e+02 | 1.34e-02 |\n",
      "|   7   |   7   |   6   | +5.8241e+03 | 8.80e+01 | 9.15e+01 | 7.72e-04 |\n",
      "|   8   |   8   |   9   | +3.2977e+03 | 6.16e+02 | 4.67e+00 | 0.00e+00 |\n",
      "|   9   |   9   |  12   | +2.3090e+03 | 2.43e+03 | 4.25e+01 | 3.62e-02 |\n",
      "|  10   |  10   |  17   | +1.3283e+03 | 2.43e+03 | 2.67e+00 | 4.15e-02 |\n",
      "|  11   |  11   |  21   | +1.3112e+03 | 2.43e+03 | 2.49e+00 | 1.62e-02 |\n",
      "|  12   |  12   |  25   | +3.8718e+02 | 4.54e+03 | 7.74e+00 | 5.62e-02 |\n",
      "|  13   |  13   |  28   | +1.7172e+02 | 4.54e+03 | 2.26e+00 | 2.47e-02 |\n",
      "|  14   |  14   |  32   | +1.2758e+02 | 4.54e+03 | 1.35e+00 | 7.37e-03 |\n",
      "|  15   |  15   |  34   | +1.2580e+02 | 4.54e+03 | 8.17e-02 | 0.00e+00 |\n",
      "|  16   |  16   |  39   | +1.1884e+02 | 4.54e+03 | 1.13e+00 | 0.00e+00 |\n",
      "|  17   |  17   |  43   | +1.1405e+02 | 4.54e+03 | 4.16e-01 | 0.00e+00 |\n",
      "|  18   |  18   |  47   | +1.1010e+02 | 4.54e+03 | 2.85e-01 | 0.00e+00 |\n",
      "|  19   |  19   |  52   | +1.0547e+02 | 4.54e+03 | 3.24e+00 | 0.00e+00 |\n",
      "|  20   |  20   |  55   | +1.0220e+02 | 4.54e+03 | 4.83e-02 | 0.00e+00 |\n|  21   |  20   |  55   | +1.0220e+02 | 2.27e+04 | 5.16e-02 | 0.00e+00 |\n",
      "|  22   |  21   |  58   | +1.0207e+02 | 2.27e+04 | 9.76e-03 | 0.00e+00 |\n|  23   |  21   |  58   | +1.0207e+02 | 1.14e+05 | 9.74e-03 | 0.00e+00 |\n",
      "|  24   |  22   |  62   | +1.0170e+02 | 1.14e+05 | 1.17e-01 | 0.00e+00 |\n",
      "|  25   |  23   |  63   | +1.0169e+02 | 1.14e+05 | 1.13e-02 | 0.00e+00 |\n",
      "|  26   |  24   |  65   | +1.0169e+02 | 1.14e+05 | 2.10e-03 | 0.00e+00 |\n|  27   |  24   |  65   | +1.0169e+02 | 5.68e+05 | 2.09e-03 | 0.00e+00 |\n",
      "|  28   |  25   |  70   | +1.0167e+02 | 5.68e+05 | 1.24e-02 | 0.00e+00 |\n",
      "|  29   |  26   |  73   | +1.0166e+02 | 5.68e+05 | 3.30e-03 | 0.00e+00 |\n",
      "|  30   |  27   |  76   | +1.0166e+02 | 5.68e+05 | 1.40e-03 | 0.00e+00 |\n|  31   |  29   |  81   | +1.0166e+02 | 5.68e+04 | 1.40e-03 | 0.00e+00 |\n",
      "|  32   |  31   |  86   | +1.0166e+02 | 5.68e+03 | 1.40e-03 | 0.00e+00 |\n|  33   |  33   |  91   | +1.0166e+02 | 5.68e+02 | 1.40e-03 | 0.00e+00 |\n",
      "|  34   |  35   |  96   | +1.0166e+02 | 5.68e+01 | 1.40e-03 | 0.00e+00 |\n",
      "|  35   |  36   |  101  | +1.0164e+02 | 5.68e+01 | 1.72e-03 | 1.74e-03 |\n",
      "|  36   |  37   |  102  | +1.0164e+02 | 5.68e+01 | 2.73e-03 | 0.00e+00 |\n",
      "|  37   |  38   |  106  | +1.0158e+02 | 1.14e+02 | 3.90e-02 | 0.00e+00 |\n",
      "|  38   |  39   |  107  | +1.0158e+02 | 1.14e+02 | 2.47e-03 | 0.00e+00 |\n",
      "|  39   |  40   |  112  | +1.0145e+02 | 7.95e+02 | 2.74e-01 | 0.00e+00 |\n",
      "|  40   |  41   |  113  | +1.0143e+02 | 7.95e+02 | 3.78e-02 | 0.00e+00 |\n",
      "|  41   |  42   |  114  | +1.0143e+02 | 7.95e+02 | 9.73e-03 | 0.00e+00 |\n",
      "|  42   |  43   |  117  | +1.0143e+02 | 7.95e+02 | 2.08e-03 | 0.00e+00 |\n|  43   |  44   |  122  | +1.0143e+02 | 7.95e+01 | 2.08e-03 | 0.00e+00 |\n|  44   |  44   |  127  | +1.0143e+02 | 7.95e+00 | 2.08e-03 | 0.00e+00 |\n|  45   |  44   |  132  | +1.0143e+02 | 1.85e+00 | 2.08e-03 | 0.00e+00 |\n|  46   |  46   |  136  | +1.0143e+02 | 9.25e-01 | 2.08e-03 | 0.00e+00 |\n",
      "|  47   |  47   |  140  | +1.0142e+02 | 6.47e+00 | 1.44e-03 | 0.00e+00 |\n",
      "|  48   |  48   |  144  | +1.0141e+02 | 4.53e+01 | 3.21e-03 | 0.00e+00 |\n",
      "|  49   |  49   |  148  | +1.0136e+02 | 3.17e+02 | 4.09e-02 | 0.00e+00 |\n",
      "|  50   |  50   |  149  | +1.0136e+02 | 3.17e+02 | 5.52e-03 | 0.00e+00 |\n",
      "|  51   |  51   |  152  | +1.0135e+02 | 3.17e+02 | 1.40e-03 | 0.00e+00 |\n|  52   |  52   |  156  | +1.0135e+02 | 1.59e+02 | 1.40e-03 | 0.00e+00 |\n",
      "|  53   |  53   |  160  | +1.0125e+02 | 3.17e+02 | 5.92e-01 | 0.00e+00 |\n",
      "|  54   |  54   |  161  | +1.0115e+02 | 3.17e+02 | 7.38e-02 | 0.00e+00 |\n",
      "|  55   |  55   |  163  | +1.0115e+02 | 3.17e+02 | 2.84e-03 | 0.00e+00 |\n",
      "|  56   |  56   |  168  | +1.0113e+02 | 3.17e+02 | 1.58e-03 | 2.80e-03 |\n",
      "|  57   |  57   |  169  | +1.0113e+02 | 3.17e+02 | 8.60e-03 | 0.00e+00 |\n",
      "|  58   |  58   |  171  | +1.0113e+02 | 3.17e+02 | 1.63e-03 | 0.00e+00 |\n",
      "|  59   |  59   |  175  | +1.0107e+02 | 3.17e+02 | 2.73e-02 | 0.00e+00 |\n",
      "|  60   |  60   |  176  | +1.0106e+02 | 3.17e+02 | 1.21e-03 | 0.00e+00 |\n",
      "|  61   |  61   |  179  | +1.0106e+02 | 3.17e+02 | 1.91e-03 | 0.00e+00 |\n",
      "|  62   |  62   |  182  | +1.0106e+02 | 3.17e+02 | 1.36e-04 | 0.00e+00 |\n|  63   |  62   |  182  | +1.0106e+02 | 1.59e+03 | 1.35e-04 | 0.00e+00 |\n",
      "|  64   |  63   |  185  | +1.0106e+02 | 1.59e+03 | 1.55e-04 | 0.00e+00 |\n|  65   |  63   |  185  | +1.0106e+02 | 7.93e+03 | 1.55e-04 | 0.00e+00 |\n",
      "|  66   |  64   |  191  | +1.0096e+02 | 7.93e+03 | 3.04e-03 | 0.00e+00 |\n",
      "|  67   |  65   |  194  | +1.0096e+02 | 7.93e+03 | 1.21e-03 | 0.00e+00 |\n",
      "|  68   |  66   |  198  | +1.0095e+02 | 7.93e+03 | 3.17e-03 | 0.00e+00 |\n",
      "|  69   |  67   |  199  | +1.0095e+02 | 7.93e+03 | 4.08e-04 | 0.00e+00 |\n",
      "|  70   |  68   |  201  | +1.0095e+02 | 7.93e+03 | 9.16e-05 | 0.00e+00 |\n",
      "|  71   |  69   |  207  | +1.0093e+02 | 7.93e+03 | 2.75e-04 | 0.00e+00 |\n",
      "|  72   |  70   |  210  | +1.0093e+02 | 7.93e+03 | 8.75e-05 | 0.00e+00 |\n",
      "|  73   |  71   |  216  | +1.0071e+02 | 2.84e+04 | 4.31e-03 | 0.00e+00 |\n",
      "|  74   |  72   |  219  | +1.0070e+02 | 2.84e+04 | 1.80e-04 | 0.00e+00 |\n",
      "|  75   |  73   |  223  | +1.0070e+02 | 2.84e+04 | 3.15e-03 | 0.00e+00 |\n",
      "|  76   |  74   |  224  | +1.0070e+02 | 2.84e+04 | 7.40e-04 | 0.00e+00 |\n",
      "|  77   |  75   |  225  | +1.0070e+02 | 2.84e+04 | 1.51e-04 | 0.00e+00 |\n",
      "|  78   |  76   |  228  | +1.0070e+02 | 2.84e+04 | 5.34e-05 | 0.00e+00 |\n",
      "|  79   |  77   |  234  | +1.0070e+02 | 2.84e+04 | 1.81e-05 | 0.00e+00 |\n|  80   |  77   |  234  | +1.0070e+02 | 1.42e+05 | 1.81e-05 | 0.00e+00 |\n",
      "|  81   |  78   |  240  | +1.0070e+02 | 1.42e+05 | 1.80e-05 | 0.00e+00 |\n",
      "|  82   |  79   |  246  | +1.0070e+02 | 1.42e+05 | 9.54e-05 | 0.00e+00 |\n",
      "|  83   |  80   |  247  | +1.0070e+02 | 1.42e+05 | 1.23e-05 | 0.00e+00 |\n",
      "|  84   |  81   |  250  | +1.0070e+02 | 1.42e+05 | 6.14e-06 | 0.00e+00 |\n|  85   |  81   |  250  | +1.0070e+02 | 7.10e+05 | 6.14e-06 | 0.00e+00 |\n",
      "|  86   |  82   |  256  | +1.0070e+02 | 7.10e+05 | 1.95e-04 | 0.00e+00 |\n",
      "|  87   |  83   |  258  | +1.0070e+02 | 7.10e+05 | 1.97e-05 | 0.00e+00 |\n",
      "|  88   |  84   |  261  | +1.0070e+02 | 7.10e+05 | 6.10e-06 | 0.00e+00 |\n",
      "|  89   |  85   |  267  | +1.0069e+02 | 7.10e+05 | 2.67e-05 | 0.00e+00 |\n",
      "|  90   |  86   |  269  | +1.0069e+02 | 7.10e+05 | 4.66e-08 | 0.00e+00 |\n|  91   |  86   |  269  | +1.0069e+02 | 3.55e+06 | 4.66e-08 | 0.00e+00 |\n",
      "|  92   |  87   |  272  | +1.0069e+02 | 3.55e+06 | 1.65e-07 | 0.00e+00 |\n|  93   |  87   |  272  | +1.0069e+02 | 1.78e+07 | 1.65e-07 | 0.00e+00 |\n",
      "|  94   |  88   |  276  | +1.0069e+02 | 1.78e+07 | 4.35e-08 | 0.00e+00 |\n",
      "|  95   |  89   |  282  | +1.0069e+02 | 1.78e+07 | 2.30e-09 | 0.00e+00 |\n()\n`gtol` termination condition is satisfied.\nNumber of iterations: 95, function evaluations: 89, CG iterations: 282, optimality: 2.30e-09, constraint violation: 0.00e+00, execution time: 3e+02 s.\nThe rho_iso ratio is = 0.350000013207\nThe rho_yield ratio is = 2.20646784723\nThe rho_gamma_b ratio is = 2.25000007807\n"
     ],
     "output_type": "stream"
    }
   ],
   "source": [
    "# Specify the true stress-strain of the tension test to be used in the calibration\n",
    "data_files = ['example_3.csv']\n",
    "\n",
    "# Set initial parameters for the Voce-Chaboche model with one backstresses\n",
    "# [E, \\sigma_{y0}, Q_\\infty, b, C_1, \\gamma_1]\n",
    "x_0 = np.array([200000., 355., 1.0, 1.0, 1.0, 1.0])\n",
    "\n",
    "# Set the bounds on the hardening metrics\n",
    "rho_iso_inf = 0.35\n",
    "rho_iso_sup = 0.50\n",
    "rho_yield_inf = 1.5\n",
    "rho_yield_sup = 2.5\n",
    "rho_gamma_b_inf = 2.25\n",
    "rho_gamma_b_sup = 3.25\n",
    "rho_gamma_12_inf = 0.\n",
    "rho_gamma_12_sup = 0.\n",
    "\n",
    "# Log files for the parameters at each step, and values of the objective function at each step\n",
    "x_log = './output/tensile_x_log.txt'\n",
    "fun_log = './output/tensile_fun_log.txt'\n",
    "\n",
    "# Run the calibration\n",
    "# Set filter_data=True if you have NOT already filtered/reduced the data\n",
    "# We recommend that you filter/reduce the data beforehand (i.e., filter_data=False is recommended)\n",
    "sol = rpl.vc_tensile_opt_scipy(x_0, data_files, rho_iso_inf, rho_iso_sup, rho_yield_inf, rho_yield_sup,\n",
    "                               rho_gamma_b_inf, rho_gamma_b_sup, rho_gamma_12_inf, rho_gamma_12_sup,\n",
    "                               x_log_file=x_log, fun_log_file=fun_log, filter_data=True,\n",
    "                               max_its=600, tol=1.e-8, make_x0_feasible=True)\n",
    "# Two objects are returned, the solution point is the first one\n",
    "x_sol = sol[0]"
   ]
  },
  {
   "cell_type": "markdown",
   "metadata": {},
   "source": [
    "## Plot results"
   ]
  },
  {
   "cell_type": "markdown",
   "metadata": {},
   "source": [
    "After the analysis is finished we can plot the test data versus the fitted model. \n",
    "Note that we add two dummy parameters to the list of final parameters because the plotting function was written for the updated Voce-Chaboche model that has two additional parameters. \n",
    "Setting the first of these two additional parameters equal to zero neglects the effects of the updated model.\n",
    "\n",
    "If we set `output_dir='./output/'`, for example, instead of `output_dir=''` the `uvc_data_plotter` function will save pdf's of all the plots instead of displaying them below.\n",
    "\n",
    "The function `uvc_data_multi_plotter` is also provided to give more fine-grained control over the plotting process, and can compare multiple analyses."
   ]
  },
  {
   "cell_type": "code",
   "execution_count": 4,
   "metadata": {
    "collapsed": false,
    "pycharm": {
     "is_executing": false
    }
   },
   "outputs": [
    {
     "data": {
      "image/png": "[encoded data removed]",
      "text/plain": "<matplotlib.figure.Figure at 0x1c175a1cd0>"
     },
     "metadata": {},
     "output_type": "display_data"
    },
    {
     "data": {
      "text/plain": "[<matplotlib.figure.Figure at 0x1c175a1cd0>]"
     },
     "metadata": {},
     "output_type": "execute_result",
     "execution_count": 4
    }
   ],
   "source": [
    "data = rpl.load_data_set(data_files)\n",
    "# Added parameters are necessary for plotting the Voce-Chaboche model\n",
    "x_sol_2 = np.insert(x_sol, 4, [0., 1.])\n",
    "rpl.uvc_data_plotter(x_sol_2, data, output_dir='', file_name='vc_tensile_example_plot', plot_label='Fitted')"
   ]
  },
  {
   "cell_type": "code",
   "execution_count": null,
   "metadata": {
    "collapsed": true,
    "pycharm": {
     "is_executing": false
    }
   },
   "outputs": [],
   "source": []
  }
 ],
 "metadata": {
  "kernelspec": {
   "display_name": "Python 2",
   "language": "python",
   "name": "python2"
  },
  "language_info": {
   "codemirror_mode": {
    "name": "ipython",
    "version": 2
   },
   "file_extension": ".py",
   "mimetype": "text/x-python",
   "name": "python",
   "nbconvert_exporter": "python",
   "pygments_lexer": "ipython2",
   "version": "2.7.15"
  },
  "pycharm": {
   "stem_cell": {
    "cell_type": "raw",
    "source": [],
    "metadata": {
     "collapsed": false
    }
   }
  }
 },
 "nbformat": 4,
 "nbformat_minor": 2
}